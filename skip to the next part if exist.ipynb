{
  "nbformat": 4,
  "nbformat_minor": 0,
  "metadata": {
    "colab": {
      "provenance": []
    },
    "kernelspec": {
      "name": "python3",
      "display_name": "Python 3"
    },
    "language_info": {
      "name": "python"
    }
  },
  "cells": [
    {
      "cell_type": "markdown",
      "source": [
        "# **installing Wisper to Collab**"
      ],
      "metadata": {
        "id": "PKF6U9XY0e1M"
      }
    },
    {
      "cell_type": "code",
      "execution_count": null,
      "metadata": {
        "colab": {
          "base_uri": "https://localhost:8080/"
        },
        "id": "Gkhgvj49ZZAv",
        "outputId": "f3bac73a-1255-4386-d215-8dd5f72e0882",
        "collapsed": true
      },
      "outputs": [
        {
          "output_type": "stream",
          "name": "stdout",
          "text": [
            "Collecting openai-whisper\n",
            "  Downloading openai-whisper-20231117.tar.gz (798 kB)\n",
            "\u001b[?25l     \u001b[90m━━━━━━━━━━━━━━━━━━━━━━━━━━━━━━━━━━━━━━━━\u001b[0m \u001b[32m0.0/798.6 kB\u001b[0m \u001b[31m?\u001b[0m eta \u001b[36m-:--:--\u001b[0m\r\u001b[2K     \u001b[91m━━━━━━━\u001b[0m\u001b[91m╸\u001b[0m\u001b[90m━━━━━━━━━━━━━━━━━━━━━━━━━━━━━━━━\u001b[0m \u001b[32m153.6/798.6 kB\u001b[0m \u001b[31m4.4 MB/s\u001b[0m eta \u001b[36m0:00:01\u001b[0m\r\u001b[2K     \u001b[91m━━━━━━━━━━━━━━━━━━━━━━━━━━━━━━━━━━━━━━━\u001b[0m\u001b[90m╺\u001b[0m \u001b[32m788.5/798.6 kB\u001b[0m \u001b[31m13.7 MB/s\u001b[0m eta \u001b[36m0:00:01\u001b[0m\r\u001b[2K     \u001b[90m━━━━━━━━━━━━━━━━━━━━━━━━━━━━━━━━━━━━━━━━\u001b[0m \u001b[32m798.6/798.6 kB\u001b[0m \u001b[31m11.0 MB/s\u001b[0m eta \u001b[36m0:00:00\u001b[0m\n",
            "\u001b[?25h  Installing build dependencies ... \u001b[?25l\u001b[?25hdone\n",
            "  Getting requirements to build wheel ... \u001b[?25l\u001b[?25hdone\n",
            "  Preparing metadata (pyproject.toml) ... \u001b[?25l\u001b[?25hdone\n",
            "Collecting ffmpeg-python\n",
            "  Downloading ffmpeg_python-0.2.0-py3-none-any.whl.metadata (1.7 kB)\n",
            "Collecting triton<3,>=2.0.0 (from openai-whisper)\n",
            "  Downloading triton-2.3.1-cp310-cp310-manylinux_2_17_x86_64.manylinux2014_x86_64.whl.metadata (1.4 kB)\n",
            "Requirement already satisfied: numba in /usr/local/lib/python3.10/dist-packages (from openai-whisper) (0.60.0)\n",
            "Requirement already satisfied: numpy in /usr/local/lib/python3.10/dist-packages (from openai-whisper) (1.26.4)\n",
            "Requirement already satisfied: torch in /usr/local/lib/python3.10/dist-packages (from openai-whisper) (2.4.0+cu121)\n",
            "Requirement already satisfied: tqdm in /usr/local/lib/python3.10/dist-packages (from openai-whisper) (4.66.5)\n",
            "Requirement already satisfied: more-itertools in /usr/local/lib/python3.10/dist-packages (from openai-whisper) (10.3.0)\n",
            "Collecting tiktoken (from openai-whisper)\n",
            "  Downloading tiktoken-0.7.0-cp310-cp310-manylinux_2_17_x86_64.manylinux2014_x86_64.whl.metadata (6.6 kB)\n",
            "Requirement already satisfied: future in /usr/local/lib/python3.10/dist-packages (from ffmpeg-python) (1.0.0)\n",
            "Requirement already satisfied: filelock in /usr/local/lib/python3.10/dist-packages (from triton<3,>=2.0.0->openai-whisper) (3.15.4)\n",
            "Requirement already satisfied: llvmlite<0.44,>=0.43.0dev0 in /usr/local/lib/python3.10/dist-packages (from numba->openai-whisper) (0.43.0)\n",
            "Requirement already satisfied: regex>=2022.1.18 in /usr/local/lib/python3.10/dist-packages (from tiktoken->openai-whisper) (2024.5.15)\n",
            "Requirement already satisfied: requests>=2.26.0 in /usr/local/lib/python3.10/dist-packages (from tiktoken->openai-whisper) (2.32.3)\n",
            "Requirement already satisfied: typing-extensions>=4.8.0 in /usr/local/lib/python3.10/dist-packages (from torch->openai-whisper) (4.12.2)\n",
            "Requirement already satisfied: sympy in /usr/local/lib/python3.10/dist-packages (from torch->openai-whisper) (1.13.2)\n",
            "Requirement already satisfied: networkx in /usr/local/lib/python3.10/dist-packages (from torch->openai-whisper) (3.3)\n",
            "Requirement already satisfied: jinja2 in /usr/local/lib/python3.10/dist-packages (from torch->openai-whisper) (3.1.4)\n",
            "Requirement already satisfied: fsspec in /usr/local/lib/python3.10/dist-packages (from torch->openai-whisper) (2024.6.1)\n",
            "Requirement already satisfied: charset-normalizer<4,>=2 in /usr/local/lib/python3.10/dist-packages (from requests>=2.26.0->tiktoken->openai-whisper) (3.3.2)\n",
            "Requirement already satisfied: idna<4,>=2.5 in /usr/local/lib/python3.10/dist-packages (from requests>=2.26.0->tiktoken->openai-whisper) (3.8)\n",
            "Requirement already satisfied: urllib3<3,>=1.21.1 in /usr/local/lib/python3.10/dist-packages (from requests>=2.26.0->tiktoken->openai-whisper) (2.0.7)\n",
            "Requirement already satisfied: certifi>=2017.4.17 in /usr/local/lib/python3.10/dist-packages (from requests>=2.26.0->tiktoken->openai-whisper) (2024.7.4)\n",
            "Requirement already satisfied: MarkupSafe>=2.0 in /usr/local/lib/python3.10/dist-packages (from jinja2->torch->openai-whisper) (2.1.5)\n",
            "Requirement already satisfied: mpmath<1.4,>=1.1.0 in /usr/local/lib/python3.10/dist-packages (from sympy->torch->openai-whisper) (1.3.0)\n",
            "Downloading ffmpeg_python-0.2.0-py3-none-any.whl (25 kB)\n",
            "Downloading triton-2.3.1-cp310-cp310-manylinux_2_17_x86_64.manylinux2014_x86_64.whl (168.1 MB)\n",
            "\u001b[2K   \u001b[90m━━━━━━━━━━━━━━━━━━━━━━━━━━━━━━━━━━━━━━━━\u001b[0m \u001b[32m168.1/168.1 MB\u001b[0m \u001b[31m5.6 MB/s\u001b[0m eta \u001b[36m0:00:00\u001b[0m\n",
            "\u001b[?25hDownloading tiktoken-0.7.0-cp310-cp310-manylinux_2_17_x86_64.manylinux2014_x86_64.whl (1.1 MB)\n",
            "\u001b[2K   \u001b[90m━━━━━━━━━━━━━━━━━━━━━━━━━━━━━━━━━━━━━━━━\u001b[0m \u001b[32m1.1/1.1 MB\u001b[0m \u001b[31m43.5 MB/s\u001b[0m eta \u001b[36m0:00:00\u001b[0m\n",
            "\u001b[?25hBuilding wheels for collected packages: openai-whisper\n",
            "  Building wheel for openai-whisper (pyproject.toml) ... \u001b[?25l\u001b[?25hdone\n",
            "  Created wheel for openai-whisper: filename=openai_whisper-20231117-py3-none-any.whl size=801358 sha256=ef2bb88cca1afde642f2065a22c55388771fe008717e55e51c66e9dcfd46de04\n",
            "  Stored in directory: /root/.cache/pip/wheels/d0/85/e1/9361b4cbea7dd4b7f6702fa4c3afc94877952eeb2b62f45f56\n",
            "Successfully built openai-whisper\n",
            "Installing collected packages: triton, ffmpeg-python, tiktoken, openai-whisper\n",
            "Successfully installed ffmpeg-python-0.2.0 openai-whisper-20231117 tiktoken-0.7.0 triton-2.3.1\n"
          ]
        }
      ],
      "source": [
        "pip install openai-whisper ffmpeg-python\n"
      ]
    },
    {
      "cell_type": "markdown",
      "source": [
        "# **Connecting Google Drive Storage to Collab**"
      ],
      "metadata": {
        "id": "OZTZcSOV0rXr"
      }
    },
    {
      "cell_type": "code",
      "source": [
        "from google.colab import drive\n",
        "drive.mount('/content/drive')"
      ],
      "metadata": {
        "id": "WWVLKSOAx5b2",
        "outputId": "71a0af9d-e4d4-48fe-8a3a-9d362896d177",
        "colab": {
          "base_uri": "https://localhost:8080/"
        }
      },
      "execution_count": null,
      "outputs": [
        {
          "output_type": "stream",
          "name": "stdout",
          "text": [
            "Mounted at /content/drive\n"
          ]
        }
      ]
    },
    {
      "cell_type": "markdown",
      "source": [
        "# **one onw word per show**"
      ],
      "metadata": {
        "id": "eyKgE3Gnwwis"
      }
    },
    {
      "cell_type": "code",
      "source": [
        "import whisper\n",
        "\n",
        "# Load the Whisper model\n",
        "model = whisper.load_model(\"base\")\n",
        "\n",
        "# Transcribe the audio file\n",
        "result = model.transcribe(\"audio.mp3\")\n",
        "\n",
        "# Function to format time in SRT format\n",
        "def format_time(seconds):\n",
        "    hours = int(seconds // 3600)\n",
        "    minutes = int((seconds % 3600) // 60)\n",
        "    secs = int(seconds % 60)\n",
        "    millis = int((seconds % 1) * 1000)\n",
        "    return f\"{hours:02}:{minutes:02}:{secs:02},{millis:03}\"\n",
        "\n",
        "# Write the transcription to an SRT file with one word at a time\n",
        "with open(\"output.srt\", \"w\") as srt_file:\n",
        "    index = 1\n",
        "    for segment in result[\"segments\"]:\n",
        "        words = segment[\"text\"].split()\n",
        "        start_time = segment[\"start\"]\n",
        "        word_duration = (segment[\"end\"] - segment[\"start\"]) / len(words)\n",
        "\n",
        "        for word in words:\n",
        "            end_time = start_time + word_duration\n",
        "            srt_file.write(f\"{index}\\n{format_time(start_time)} --> {format_time(end_time)}\\n{word}\\n\\n\")\n",
        "            start_time = end_time\n",
        "            index += 1\n"
      ],
      "metadata": {
        "colab": {
          "base_uri": "https://localhost:8080/"
        },
        "id": "-ZYZeikmbHYu",
        "outputId": "ceb3ad74-bf53-4f2e-a587-783bbd7029ef"
      },
      "execution_count": null,
      "outputs": [
        {
          "output_type": "stream",
          "name": "stderr",
          "text": [
            "/usr/local/lib/python3.10/dist-packages/whisper/__init__.py:146: FutureWarning: You are using `torch.load` with `weights_only=False` (the current default value), which uses the default pickle module implicitly. It is possible to construct malicious pickle data which will execute arbitrary code during unpickling (See https://github.com/pytorch/pytorch/blob/main/SECURITY.md#untrusted-models for more details). In a future release, the default value for `weights_only` will be flipped to `True`. This limits the functions that could be executed during unpickling. Arbitrary objects will no longer be allowed to be loaded via this mode unless they are explicitly allowlisted by the user via `torch.serialization.add_safe_globals`. We recommend you start setting `weights_only=True` for any use case where you don't have full control of the loaded file. Please open an issue on GitHub for any issues related to this experimental feature.\n",
            "  checkpoint = torch.load(fp, map_location=device)\n",
            "/usr/local/lib/python3.10/dist-packages/whisper/transcribe.py:115: UserWarning: FP16 is not supported on CPU; using FP32 instead\n",
            "  warnings.warn(\"FP16 is not supported on CPU; using FP32 instead\")\n"
          ]
        }
      ]
    },
    {
      "cell_type": "markdown",
      "source": [
        "# **importing and save in google drive **"
      ],
      "metadata": {
        "id": "BGjg9rmn0QR0"
      }
    },
    {
      "cell_type": "code",
      "source": [
        "import whisper\n",
        "\n",
        "# Load the Whisper model\n",
        "model = whisper.load_model(\"base\")\n",
        "\n",
        "# Transcribe the audio file\n",
        "result = model.transcribe(\"/content/drive/MyDrive/Speech_audios_English/4.mp3\")\n",
        "\n",
        "# Function to format time in SRT format\n",
        "def format_time(seconds):\n",
        "    hours = int(seconds // 3600)\n",
        "    minutes = int((seconds % 3600) // 60)\n",
        "    secs = int(seconds % 60)\n",
        "    millis = int((seconds % 1) * 1000)\n",
        "    return f\"{hours:02}:{minutes:02}:{secs:02},{millis:03}\"\n",
        "\n",
        "# Path to save the SRT file in Google Drive\n",
        "srt_path = \"/content/drive/MyDrive/Subtitles/output.srt\"\n",
        "\n",
        "# Write the transcription to an SRT file with two words at a time\n",
        "with open(srt_path, \"w\") as srt_file:\n",
        "    index = 1\n",
        "    for segment in result[\"segments\"]:\n",
        "        words = segment[\"text\"].split()\n",
        "        start_time = segment[\"start\"]\n",
        "        word_duration = (segment[\"end\"] - segment[\"start\"]) / len(words)\n",
        "\n",
        "        for i in range(0, len(words), 2):\n",
        "            end_time = start_time + word_duration * 2\n",
        "            srt_file.write(f\"{index}\\n{format_time(start_time)} --> {format_time(end_time)}\\n{' '.join(words[i:i+2])}\\n\\n\")\n",
        "            start_time = end_time\n",
        "            index += 1\n"
      ],
      "metadata": {
        "id": "GVYT_11a0UWS"
      },
      "execution_count": null,
      "outputs": []
    },
    {
      "cell_type": "markdown",
      "source": [
        "# **saving srt in g drive in the same folder**"
      ],
      "metadata": {
        "id": "MZilMcz_3E2z"
      }
    },
    {
      "cell_type": "code",
      "source": [
        "\n",
        "\n",
        "# Import necessary libraries\n",
        "import whisper\n",
        "import os\n",
        "\n",
        "\n",
        "\n",
        "\n",
        "# Load the Whisper model\n",
        "model = whisper.load_model(\"base\")\n",
        "\n",
        "# Function to format time in SRT format\n",
        "def format_time(seconds):\n",
        "    hours = int(seconds // 3600)\n",
        "    minutes = int((seconds % 3600) // 60)\n",
        "    secs = int(seconds % 60)\n",
        "    millis = int((seconds % 1) * 1000)\n",
        "    return f\"{hours:02}:{minutes:02}:{secs:02},{millis:03}\"\n",
        "\n",
        "# Path to the folder containing MP3 files\n",
        "folder_path = \"/content/drive/MyDrive/Speech_audios_English\"\n",
        "\n",
        "# List all MP3 files in the folder\n",
        "mp3_files = [f for f in os.listdir(folder_path) if f.endswith('.mp3')]\n",
        "\n",
        "# Process each MP3 file\n",
        "for mp3_file in mp3_files:\n",
        "    # Transcribe the audio file\n",
        "    result = model.transcribe(os.path.join(folder_path, mp3_file))\n",
        "\n",
        "    # Path to save the SRT file\n",
        "    srt_path = os.path.join(folder_path, mp3_file.replace('.mp3', '.srt'))\n",
        "\n",
        "    # Write the transcription to an SRT file with two words at a time\n",
        "    with open(srt_path, \"w\") as srt_file:\n",
        "        index = 1\n",
        "        for segment in result[\"segments\"]:\n",
        "            words = segment[\"text\"].split()\n",
        "            start_time = segment[\"start\"]\n",
        "            word_duration = (segment[\"end\"] - segment[\"start\"]) / len(words)\n",
        "\n",
        "            for i in range(0, len(words), 2):\n",
        "                end_time = start_time + word_duration * 2\n",
        "                srt_file.write(f\"{index}\\n{format_time(start_time)} --> {format_time(end_time)}\\n{' '.join(words[i:i+2])}\\n\\n\")\n",
        "                start_time = end_time\n",
        "                index += 1\n",
        "\n",
        "print(\"Transcription completed for all files.\")\n"
      ],
      "metadata": {
        "id": "LYLkVqSB3JpS"
      },
      "execution_count": null,
      "outputs": []
    },
    {
      "cell_type": "markdown",
      "source": [
        "# **input output folder path code**"
      ],
      "metadata": {
        "id": "KU5tw9k630ue"
      }
    },
    {
      "cell_type": "code",
      "source": [
        "\n",
        "import whisper\n",
        "import os\n",
        "\n",
        "\n",
        "# Load the Whisper model\n",
        "model = whisper.load_model(\"base\")\n",
        "\n",
        "# Function to format time in SRT format\n",
        "def format_time(seconds):\n",
        "    hours = int(seconds // 3600)\n",
        "    minutes = int((seconds % 3600) // 60)\n",
        "    secs = int(seconds % 60)\n",
        "    millis = int((seconds % 1) * 1000)\n",
        "    return f\"{hours:02}:{minutes:02}:{secs:02},{millis:03}\"\n",
        "\n",
        "# Path to the folder containing MP3 files\n",
        "input_folder_path = \"/content/drive/MyDrive/Speech_audios_English\"\n",
        "output_folder_path = \"/content/drive/My Drive/Subtitles\"\n",
        "\n",
        "# Ensure the output folder exists\n",
        "os.makedirs(output_folder_path, exist_ok=True)\n",
        "\n",
        "# List all MP3 files in the input folder\n",
        "mp3_files = [f for f in os.listdir(input_folder_path) if f.endswith('.mp3')]\n",
        "\n",
        "# Process each MP3 file\n",
        "for mp3_file in mp3_files:\n",
        "    # Transcribe the audio file\n",
        "    result = model.transcribe(os.path.join(input_folder_path, mp3_file))\n",
        "\n",
        "    # Path to save the SRT file\n",
        "    srt_path = os.path.join(output_folder_path, mp3_file.replace('.mp3', '.srt'))\n",
        "\n",
        "    # Write the transcription to an SRT file with two words at a time\n",
        "    with open(srt_path, \"w\") as srt_file:\n",
        "        index = 1\n",
        "        for segment in result[\"segments\"]:\n",
        "            words = segment[\"text\"].split()\n",
        "            start_time = segment[\"start\"]\n",
        "            word_duration = (segment[\"end\"] - segment[\"start\"]) / len(words)\n",
        "\n",
        "            for i in range(0, len(words), 2):\n",
        "                end_time = start_time + word_duration * 2\n",
        "                srt_file.write(f\"{index}\\n{format_time(start_time)} --> {format_time(end_time)}\\n{' '.join(words[i:i+2])}\\n\\n\")\n",
        "                start_time = end_time\n",
        "                index += 1\n",
        "\n",
        "print(\"Transcription completed for all files.\")\n"
      ],
      "metadata": {
        "id": "SiSJ_is334gL",
        "outputId": "9fe60209-dd35-4c36-e841-d05f50001fbb",
        "colab": {
          "base_uri": "https://localhost:8080/"
        }
      },
      "execution_count": null,
      "outputs": [
        {
          "output_type": "stream",
          "name": "stderr",
          "text": [
            "/usr/local/lib/python3.10/dist-packages/whisper/__init__.py:146: FutureWarning: You are using `torch.load` with `weights_only=False` (the current default value), which uses the default pickle module implicitly. It is possible to construct malicious pickle data which will execute arbitrary code during unpickling (See https://github.com/pytorch/pytorch/blob/main/SECURITY.md#untrusted-models for more details). In a future release, the default value for `weights_only` will be flipped to `True`. This limits the functions that could be executed during unpickling. Arbitrary objects will no longer be allowed to be loaded via this mode unless they are explicitly allowlisted by the user via `torch.serialization.add_safe_globals`. We recommend you start setting `weights_only=True` for any use case where you don't have full control of the loaded file. Please open an issue on GitHub for any issues related to this experimental feature.\n",
            "  checkpoint = torch.load(fp, map_location=device)\n",
            "/usr/local/lib/python3.10/dist-packages/whisper/transcribe.py:115: UserWarning: FP16 is not supported on CPU; using FP32 instead\n",
            "  warnings.warn(\"FP16 is not supported on CPU; using FP32 instead\")\n",
            "/usr/local/lib/python3.10/dist-packages/whisper/transcribe.py:115: UserWarning: FP16 is not supported on CPU; using FP32 instead\n",
            "  warnings.warn(\"FP16 is not supported on CPU; using FP32 instead\")\n",
            "/usr/local/lib/python3.10/dist-packages/whisper/transcribe.py:115: UserWarning: FP16 is not supported on CPU; using FP32 instead\n",
            "  warnings.warn(\"FP16 is not supported on CPU; using FP32 instead\")\n",
            "/usr/local/lib/python3.10/dist-packages/whisper/transcribe.py:115: UserWarning: FP16 is not supported on CPU; using FP32 instead\n",
            "  warnings.warn(\"FP16 is not supported on CPU; using FP32 instead\")\n",
            "/usr/local/lib/python3.10/dist-packages/whisper/transcribe.py:115: UserWarning: FP16 is not supported on CPU; using FP32 instead\n",
            "  warnings.warn(\"FP16 is not supported on CPU; using FP32 instead\")\n",
            "/usr/local/lib/python3.10/dist-packages/whisper/transcribe.py:115: UserWarning: FP16 is not supported on CPU; using FP32 instead\n",
            "  warnings.warn(\"FP16 is not supported on CPU; using FP32 instead\")\n",
            "/usr/local/lib/python3.10/dist-packages/whisper/transcribe.py:115: UserWarning: FP16 is not supported on CPU; using FP32 instead\n",
            "  warnings.warn(\"FP16 is not supported on CPU; using FP32 instead\")\n",
            "/usr/local/lib/python3.10/dist-packages/whisper/transcribe.py:115: UserWarning: FP16 is not supported on CPU; using FP32 instead\n",
            "  warnings.warn(\"FP16 is not supported on CPU; using FP32 instead\")\n",
            "/usr/local/lib/python3.10/dist-packages/whisper/transcribe.py:115: UserWarning: FP16 is not supported on CPU; using FP32 instead\n",
            "  warnings.warn(\"FP16 is not supported on CPU; using FP32 instead\")\n",
            "/usr/local/lib/python3.10/dist-packages/whisper/transcribe.py:115: UserWarning: FP16 is not supported on CPU; using FP32 instead\n",
            "  warnings.warn(\"FP16 is not supported on CPU; using FP32 instead\")\n",
            "/usr/local/lib/python3.10/dist-packages/whisper/transcribe.py:115: UserWarning: FP16 is not supported on CPU; using FP32 instead\n",
            "  warnings.warn(\"FP16 is not supported on CPU; using FP32 instead\")\n",
            "/usr/local/lib/python3.10/dist-packages/whisper/transcribe.py:115: UserWarning: FP16 is not supported on CPU; using FP32 instead\n",
            "  warnings.warn(\"FP16 is not supported on CPU; using FP32 instead\")\n",
            "/usr/local/lib/python3.10/dist-packages/whisper/transcribe.py:115: UserWarning: FP16 is not supported on CPU; using FP32 instead\n",
            "  warnings.warn(\"FP16 is not supported on CPU; using FP32 instead\")\n",
            "/usr/local/lib/python3.10/dist-packages/whisper/transcribe.py:115: UserWarning: FP16 is not supported on CPU; using FP32 instead\n",
            "  warnings.warn(\"FP16 is not supported on CPU; using FP32 instead\")\n",
            "/usr/local/lib/python3.10/dist-packages/whisper/transcribe.py:115: UserWarning: FP16 is not supported on CPU; using FP32 instead\n",
            "  warnings.warn(\"FP16 is not supported on CPU; using FP32 instead\")\n",
            "/usr/local/lib/python3.10/dist-packages/whisper/transcribe.py:115: UserWarning: FP16 is not supported on CPU; using FP32 instead\n",
            "  warnings.warn(\"FP16 is not supported on CPU; using FP32 instead\")\n",
            "/usr/local/lib/python3.10/dist-packages/whisper/transcribe.py:115: UserWarning: FP16 is not supported on CPU; using FP32 instead\n",
            "  warnings.warn(\"FP16 is not supported on CPU; using FP32 instead\")\n",
            "/usr/local/lib/python3.10/dist-packages/whisper/transcribe.py:115: UserWarning: FP16 is not supported on CPU; using FP32 instead\n",
            "  warnings.warn(\"FP16 is not supported on CPU; using FP32 instead\")\n",
            "/usr/local/lib/python3.10/dist-packages/whisper/transcribe.py:115: UserWarning: FP16 is not supported on CPU; using FP32 instead\n",
            "  warnings.warn(\"FP16 is not supported on CPU; using FP32 instead\")\n",
            "/usr/local/lib/python3.10/dist-packages/whisper/transcribe.py:115: UserWarning: FP16 is not supported on CPU; using FP32 instead\n",
            "  warnings.warn(\"FP16 is not supported on CPU; using FP32 instead\")\n",
            "/usr/local/lib/python3.10/dist-packages/whisper/transcribe.py:115: UserWarning: FP16 is not supported on CPU; using FP32 instead\n",
            "  warnings.warn(\"FP16 is not supported on CPU; using FP32 instead\")\n",
            "/usr/local/lib/python3.10/dist-packages/whisper/transcribe.py:115: UserWarning: FP16 is not supported on CPU; using FP32 instead\n",
            "  warnings.warn(\"FP16 is not supported on CPU; using FP32 instead\")\n",
            "/usr/local/lib/python3.10/dist-packages/whisper/transcribe.py:115: UserWarning: FP16 is not supported on CPU; using FP32 instead\n",
            "  warnings.warn(\"FP16 is not supported on CPU; using FP32 instead\")\n",
            "/usr/local/lib/python3.10/dist-packages/whisper/transcribe.py:115: UserWarning: FP16 is not supported on CPU; using FP32 instead\n",
            "  warnings.warn(\"FP16 is not supported on CPU; using FP32 instead\")\n",
            "/usr/local/lib/python3.10/dist-packages/whisper/transcribe.py:115: UserWarning: FP16 is not supported on CPU; using FP32 instead\n",
            "  warnings.warn(\"FP16 is not supported on CPU; using FP32 instead\")\n",
            "/usr/local/lib/python3.10/dist-packages/whisper/transcribe.py:115: UserWarning: FP16 is not supported on CPU; using FP32 instead\n",
            "  warnings.warn(\"FP16 is not supported on CPU; using FP32 instead\")\n",
            "/usr/local/lib/python3.10/dist-packages/whisper/transcribe.py:115: UserWarning: FP16 is not supported on CPU; using FP32 instead\n",
            "  warnings.warn(\"FP16 is not supported on CPU; using FP32 instead\")\n",
            "/usr/local/lib/python3.10/dist-packages/whisper/transcribe.py:115: UserWarning: FP16 is not supported on CPU; using FP32 instead\n",
            "  warnings.warn(\"FP16 is not supported on CPU; using FP32 instead\")\n",
            "/usr/local/lib/python3.10/dist-packages/whisper/transcribe.py:115: UserWarning: FP16 is not supported on CPU; using FP32 instead\n",
            "  warnings.warn(\"FP16 is not supported on CPU; using FP32 instead\")\n",
            "/usr/local/lib/python3.10/dist-packages/whisper/transcribe.py:115: UserWarning: FP16 is not supported on CPU; using FP32 instead\n",
            "  warnings.warn(\"FP16 is not supported on CPU; using FP32 instead\")\n"
          ]
        },
        {
          "output_type": "stream",
          "name": "stdout",
          "text": [
            "Transcription completed for all files.\n"
          ]
        }
      ]
    },
    {
      "cell_type": "markdown",
      "source": [
        "# **if srt available then skip that part**"
      ],
      "metadata": {
        "id": "u-wkstFR7e5M"
      }
    },
    {
      "cell_type": "code",
      "source": [
        "\n",
        "\n",
        "# Import necessary libraries\n",
        "import whisper\n",
        "import os\n",
        "\n",
        "\n",
        "\n",
        "\n",
        "# Load the Whisper model\n",
        "model = whisper.load_model(\"base\")\n",
        "\n",
        "# Function to format time in SRT format\n",
        "def format_time(seconds):\n",
        "    hours = int(seconds // 3600)\n",
        "    minutes = int((seconds % 3600) // 60)\n",
        "    secs = int(seconds % 60)\n",
        "    millis = int((seconds % 1) * 1000)\n",
        "    return f\"{hours:02}:{minutes:02}:{secs:02},{millis:03}\"\n",
        "\n",
        "# Path to the folder containing MP3 files\n",
        "input_folder_path = \"/content/drive/My Drive/your_folder_name\"\n",
        "output_folder_path = \"/content/drive/My Drive/Subtitles\"\n",
        "\n",
        "# Ensure the output folder exists\n",
        "os.makedirs(output_folder_path, exist_ok=True)\n",
        "\n",
        "# List all MP3 files in the input folder\n",
        "mp3_files = [f for f in os.listdir(input_folder_path) if f.endswith('.mp3')]\n",
        "\n",
        "# Process each MP3 file\n",
        "for mp3_file in mp3_files:\n",
        "    # Path to save the SRT file\n",
        "    srt_path = os.path.join(output_folder_path, mp3_file.replace('.mp3', '.srt'))\n",
        "\n",
        "    # Check if the SRT file already exists\n",
        "    if os.path.exists(srt_path):\n",
        "        print(f\"Skipping {mp3_file} as {srt_path} already exists.\")\n",
        "        continue\n",
        "\n",
        "    # Transcribe the audio file\n",
        "    result = model.transcribe(os.path.join(input_folder_path, mp3_file))\n",
        "\n",
        "    # Write the transcription to an SRT file with two words at a time\n",
        "    with open(srt_path, \"w\") as srt_file:\n",
        "        index = 1\n",
        "        for segment in result[\"segments\"]:\n",
        "            words = segment[\"text\"].split()\n",
        "            start_time = segment[\"start\"]\n",
        "            word_duration = (segment[\"end\"] - segment[\"start\"]) / len(words)\n",
        "\n",
        "            for i in range(0, len(words), 2):\n",
        "                end_time = start_time + word_duration * 2\n",
        "                srt_file.write(f\"{index}\\n{format_time(start_time)} --> {format_time(end_time)}\\n{' '.join(words[i:i+2])}\\n\\n\")\n",
        "                start_time = end_time\n",
        "                index += 1\n",
        "\n",
        "print(\"Transcription completed for all files.\")\n"
      ],
      "metadata": {
        "id": "UypPCy5L7lX8"
      },
      "execution_count": null,
      "outputs": []
    }
  ]
}